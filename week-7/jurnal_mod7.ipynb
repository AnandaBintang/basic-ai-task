{
 "cells": [
  {
   "cell_type": "markdown",
   "metadata": {},
   "source": [
    "<div align='center'>\n",
    "    <h1>Jurnal Praktikum Dasar Kecerdasan Artifisial</h1>\n",
    "    <h3>Modul 8: Implementasi Hill Climbing dan Simulated Annealing</h3>\n",
    "</div>"
   ]
  },
  {
   "cell_type": "markdown",
   "metadata": {},
   "source": [
    "### Tujuan Praktikum\n",
    "- Mahasiswa memahami dan mampu mengimplementasikan algoritma Hill Climbing pada python\n",
    "- Mahasiswa memahami dan mampu mengimplementasikan algoritma Simulated Annealing pada python"
   ]
  },
  {
   "cell_type": "markdown",
   "metadata": {},
   "source": [
    "**Jangan lupa untuk selalu import *library* Random ketika memulai sesi baru (*run time*) atau kode Python yang memerlukan penggunaan library Random** "
   ]
  },
  {
   "cell_type": "code",
   "execution_count": 41,
   "metadata": {},
   "outputs": [],
   "source": [
    "# import random\n",
    "import random # library ini akan digunakan untuk melakukan inisiasi solusi awal secara random\n",
    "import pandas as pd\n",
    "\n",
    "def printJadwal(solusi): \n",
    "    print(pd.DataFrame.from_dict(solusi, orient='index', columns=['Ruangan', 'Waktu']))"
   ]
  },
  {
   "cell_type": "markdown",
   "metadata": {},
   "source": [
    "## Hill Climbing"
   ]
  },
  {
   "cell_type": "markdown",
   "metadata": {},
   "source": [
    "### Soal 1"
   ]
  },
  {
   "cell_type": "markdown",
   "metadata": {},
   "source": [
    "SMA RezaSangar memiliki 9 mata pelajaran yang harus dijadwalkan untuk satu semester. Terdapat 3 ruang kelas yang tersedia dan setiap mata pelajaran harus dijadwalkan pada salah satu dari 4 waktu yang tersedia dalam seminggu. \n",
    "\n",
    "**Syarat:**\n",
    "- Tidak boleh ada dua mata pelajaran yang dijadwalkan pada waktu yang sama.\n",
    "- Setiap mata pelajaran harus dijadwalkan tepat pada satu waktu dan satu ruang\n",
    "\n",
    "**Final State:**\n",
    "- Seluruh mata pelajaran telah dijadwalkan ke dalam ruangan dan waktu yang tersedia tanpa adanya bentrok\n",
    "\n",
    "**Data mata pelajaran, ruang kelas, dan waktu yang tersedia**\n",
    "|Mata Pelajaran|Ruang Kelas|Waktu|\n",
    "|---|---|---|\n",
    "|Ekonomi|Ruang 101|Senin 08:00|\n",
    "|Geologi|Ruang 102|Senin 10:00|\n",
    "|Sejarah|Ruang 103|Selasa 08:00|\n",
    "|Fisika||Rabu 08:00|\n",
    "|Biologi|||\n",
    "|Kimia|||\n",
    "|Matematika|||\n",
    "|Bahasa Indonesia|||\n",
    "|Bahasa Inggris|||"
   ]
  },
  {
   "cell_type": "markdown",
   "metadata": {},
   "source": [
    "#### 1. Buat fungsi untuk mencari solusi awal (Bobot nilai: `15`)"
   ]
  },
  {
   "cell_type": "markdown",
   "metadata": {},
   "source": [
    "Hint: Solusi yang akan terbentuk adalah sebuah dictionary dengan `key berupa nama mata pelajaran` dan `value berupa tupple` ruang kelas dan waktu yang tersedia\n",
    "\n",
    "**Pro tips:** gunakan fungsi `random.choice()` untuk memilih secara acak nilai dalam array "
   ]
  },
  {
   "cell_type": "code",
   "execution_count": 42,
   "metadata": {},
   "outputs": [],
   "source": [
    "def initiateSolusiAwal(mapel, ruangan, waktu):\n",
    "    solusi = {}  # Buat sebuah dictionary kosong\n",
    "    for mk in mapel:  # Telusuri seluruh nilai dalam array mapel!\n",
    "        # Key akan berupa nama mapel dan valuenya berupa tupple ruang kelas dan waktu yang tersedia\n",
    "        solusi[mk] = (random.choice(ruangan), random.choice(waktu)) \n",
    "    return solusi"
   ]
  },
  {
   "cell_type": "markdown",
   "metadata": {},
   "source": [
    "#### 2. Buat fungsi untuk menghitung jumlah jadwal yang bentrok (Bobot nilai: `10`)"
   ]
  },
  {
   "cell_type": "markdown",
   "metadata": {},
   "source": [
    "**Pro tips:** kita dapat melakukan eksplorasi nilai dictionary dengan menggunakan loop berikut `for key, value in dict.items():`"
   ]
  },
  {
   "cell_type": "code",
   "execution_count": 43,
   "metadata": {},
   "outputs": [],
   "source": [
    "def hitungBentrok(solusi):\n",
    "    jumlahBentrok = 0  # inisiasi nilai awal jumlah jadwal yang bentrok dengan nilai 0\n",
    "    jadwal = {}  # buat dictionary kosong untuk menampung jadwal\n",
    "\n",
    "    for mataKuliah, (ruangan, waktu) in solusi.items():  # Telusuri seluruh nilai dalam dictionary solusi\n",
    "        key = (ruangan, waktu)  # Tampung tupple yang ada pada dictionary\n",
    "        if key in jadwal:  # Cek apakah tupple ruangan dan waktu sudah ada di jadwal atau belum\n",
    "            jumlahBentrok += 1  # Lakukan increment jumlah bentrok\n",
    "        else:\n",
    "            jadwal[key] = mataKuliah  # isi key jadwal dengan tupple ruang dan waktu, dan value jadwal dengan nama mata pelajaran\n",
    "    \n",
    "    return jumlahBentrok\n"
   ]
  },
  {
   "cell_type": "markdown",
   "metadata": {},
   "source": [
    "#### 3. Buat fungsi untuk mencari tetangga (Bobot nilai: `20`)"
   ]
  },
  {
   "cell_type": "code",
   "execution_count": 44,
   "metadata": {},
   "outputs": [],
   "source": [
    "def cariTetangga(solusi, arrMapel, arrRuangan, arrWaktu):\n",
    "    tetangga = []  # inisiasi tetangga dengan list kosong\n",
    "    for pelajaran in arrMapel:  # eksplorasi seluruh pelajaran pada list arrMapel\n",
    "        currRuangan, currWaktu = solusi[pelajaran]  # ambil nilai ruangan dan waktu saat ini pada dictionary solusi\n",
    "\n",
    "        # coba untuk ganti ruangan\n",
    "        for ruangan in arrRuangan:  # eksplorasi seluruh ruangan pada list arrRuangan\n",
    "            if ruangan != currRuangan:  # buat percabangan jika ruangan tidak sama dengan currRuangan\n",
    "                tetanggaBaru = solusi.copy()\n",
    "                tetanggaBaru[pelajaran] = (ruangan, currWaktu)  # buat tetangga baru berdasarkan ruangan baru yang telah ditemukan dan currentWaktu\n",
    "                tetangga.append(tetanggaBaru)  # tambah tetanggaBaru ke dalam list tetangga\n",
    "\n",
    "        # coba untuk ganti waktu:\n",
    "        for waktu in arrWaktu:  # eksplorasi seluruh waktu pada list arrWaktu\n",
    "            if waktu != currWaktu:  # buat percabangan jika waktu tidak sama dengan currWaktu\n",
    "                tetanggaBaru = solusi.copy()\n",
    "                tetanggaBaru[pelajaran] = (currRuangan, waktu)  # buat tetangga baru berdasarkan waktu baru yang telah ditemukan dan currentRuangan\n",
    "                tetangga.append(tetanggaBaru)  # tambah tetanggaBaru ke dalam list tetangga\n",
    "\n",
    "    return tetangga"
   ]
  },
  {
   "cell_type": "markdown",
   "metadata": {},
   "source": [
    "#### 4. Mencari solusi dengan hill climbing (Bobot nilai: `25`)"
   ]
  },
  {
   "cell_type": "markdown",
   "metadata": {},
   "source": [
    "a. definisikan data berdasarkan soal yang berikan"
   ]
  },
  {
   "cell_type": "code",
   "execution_count": 45,
   "metadata": {},
   "outputs": [],
   "source": [
    "mataPelajaran = ['Ekonomi', 'Geologi', 'Sejarah', 'Fisika', 'Biologi', 'Kimia', 'Matematika', 'Bahasa Indonesia', 'Bahasa Inggris'] \n",
    "ruangKelas = ['Ruang 101', 'Ruang 102', 'Ruang 103'] \n",
    "waktu = ['Senin 08:00', 'Senin 10:00', 'Selasa 08:00', 'Rabu 08:00'] "
   ]
  },
  {
   "cell_type": "markdown",
   "metadata": {},
   "source": [
    "b. Buat solusi awal dan hitung berapa banyak jadwal yang bentrok"
   ]
  },
  {
   "cell_type": "code",
   "execution_count": 46,
   "metadata": {},
   "outputs": [
    {
     "name": "stdout",
     "output_type": "stream",
     "text": [
      "Iterasi: 0\n",
      "Jumlah Bentrok: 3\n",
      "Solusi Awal:\n",
      "                    Ruangan         Waktu\n",
      "Ekonomi           Ruang 102  Selasa 08:00\n",
      "Geologi           Ruang 103  Selasa 08:00\n",
      "Sejarah           Ruang 103    Rabu 08:00\n",
      "Fisika            Ruang 101    Rabu 08:00\n",
      "Biologi           Ruang 101    Rabu 08:00\n",
      "Kimia             Ruang 102  Selasa 08:00\n",
      "Matematika        Ruang 103    Rabu 08:00\n",
      "Bahasa Indonesia  Ruang 102   Senin 08:00\n",
      "Bahasa Inggris    Ruang 102    Rabu 08:00\n"
     ]
    }
   ],
   "source": [
    "solusi = initiateSolusiAwal(mataPelajaran, ruangKelas, waktu) # deklarasikan solusi awal dengan menggunakan fungsi initiateSolusiAwal()\n",
    "jumBentrok = hitungBentrok(solusi) # Hitung jumlah jadwal bentrok dengan fungsi hitungBentrok()\n",
    "iterasi = 0 \n",
    "\n",
    "print(f\"Iterasi: {iterasi}\\nJumlah Bentrok: {jumBentrok}\\nSolusi Awal:\")\n",
    "printJadwal(solusi)"
   ]
  },
  {
   "cell_type": "markdown",
   "metadata": {},
   "source": [
    "**Output mungkin akan memberikan hasil yang berbeda karena dipilih secara acak**"
   ]
  },
  {
   "cell_type": "markdown",
   "metadata": {},
   "source": [
    "c. Lakukan looping hingga jadwal bentrok habis atau tidak ada jumlah jadwal bentrok yang lebih baik daripada solusi saat ini"
   ]
  },
  {
   "cell_type": "code",
   "execution_count": 47,
   "metadata": {},
   "outputs": [
    {
     "name": "stdout",
     "output_type": "stream",
     "text": [
      "\n",
      "Iterasi: 1\n",
      "Jumlah Bentrok: 2\n",
      "Solusi:\n",
      "                    Ruangan         Waktu\n",
      "Ekonomi           Ruang 101  Selasa 08:00\n",
      "Geologi           Ruang 103  Selasa 08:00\n",
      "Sejarah           Ruang 103    Rabu 08:00\n",
      "Fisika            Ruang 101    Rabu 08:00\n",
      "Biologi           Ruang 101    Rabu 08:00\n",
      "Kimia             Ruang 102  Selasa 08:00\n",
      "Matematika        Ruang 103    Rabu 08:00\n",
      "Bahasa Indonesia  Ruang 102   Senin 08:00\n",
      "Bahasa Inggris    Ruang 102    Rabu 08:00\n",
      "--------------------------------------------------\n",
      "\n",
      "Iterasi: 2\n",
      "Jumlah Bentrok: 1\n",
      "Solusi:\n",
      "                    Ruangan         Waktu\n",
      "Ekonomi           Ruang 101  Selasa 08:00\n",
      "Geologi           Ruang 103  Selasa 08:00\n",
      "Sejarah           Ruang 103   Senin 08:00\n",
      "Fisika            Ruang 101    Rabu 08:00\n",
      "Biologi           Ruang 101    Rabu 08:00\n",
      "Kimia             Ruang 102  Selasa 08:00\n",
      "Matematika        Ruang 103    Rabu 08:00\n",
      "Bahasa Indonesia  Ruang 102   Senin 08:00\n",
      "Bahasa Inggris    Ruang 102    Rabu 08:00\n",
      "--------------------------------------------------\n",
      "\n",
      "Iterasi: 3\n",
      "Jumlah Bentrok: 0\n",
      "Solusi:\n",
      "                    Ruangan         Waktu\n",
      "Ekonomi           Ruang 101  Selasa 08:00\n",
      "Geologi           Ruang 103  Selasa 08:00\n",
      "Sejarah           Ruang 103   Senin 08:00\n",
      "Fisika            Ruang 101   Senin 08:00\n",
      "Biologi           Ruang 101    Rabu 08:00\n",
      "Kimia             Ruang 102  Selasa 08:00\n",
      "Matematika        Ruang 103    Rabu 08:00\n",
      "Bahasa Indonesia  Ruang 102   Senin 08:00\n",
      "Bahasa Inggris    Ruang 102    Rabu 08:00\n",
      "--------------------------------------------------\n",
      "Solusi terbaik ditemukan\n",
      "\n",
      "Solusi terbaik: \n",
      "                    Ruangan         Waktu\n",
      "Ekonomi           Ruang 101  Selasa 08:00\n",
      "Geologi           Ruang 103  Selasa 08:00\n",
      "Sejarah           Ruang 103   Senin 08:00\n",
      "Fisika            Ruang 101   Senin 08:00\n",
      "Biologi           Ruang 101    Rabu 08:00\n",
      "Kimia             Ruang 102  Selasa 08:00\n",
      "Matematika        Ruang 103    Rabu 08:00\n",
      "Bahasa Indonesia  Ruang 102   Senin 08:00\n",
      "Bahasa Inggris    Ruang 102    Rabu 08:00\n",
      "Jumlah jadwal bentrok:  0\n"
     ]
    }
   ],
   "source": [
    "while True:\n",
    "    tetangga = cariTetangga(solusi, mataPelajaran, ruangKelas, waktu)  # cari tetangga solusi dengan menggunakan fungsi cariTetangga()\n",
    "\n",
    "    jumlahBentrokTetangga = []  # inisiasi list kosong\n",
    "    for solusiTetangga in tetangga:  # telusuri seluruh kemungkinan tetangga yang sudah didapatkan\n",
    "        bentrokTetangga = hitungBentrok(solusiTetangga)  # hitung jadwal bentrok tetangga dengan fungsi hitungBentrok()\n",
    "        jumlahBentrokTetangga.append((solusiTetangga, bentrokTetangga))  # tambahkan tuple solusi dan jumlah bentrok ke dalam list jumlahBentrokTetangga\n",
    "    \n",
    "    jumlahBentrokTetangga.sort(key=lambda x: x[1])  # melakukan sorting array berdasarkan nilai bentrok \n",
    "    bestTetangga, bestBentrok = jumlahBentrokTetangga[0]  # mengambil solusi dan jumlah bentrok terbaik\n",
    "\n",
    "    if bestBentrok < jumBentrok:  # buat pengkondisian apabila jumlah bentrok tetangga lebih kecil dari nilai jumlah bentrok saat ini\n",
    "        solusi = bestTetangga  # Assign nilai solusi menjadi solusi terbaik saat ini\n",
    "        jumBentrok = bestBentrok  # Assign nilai jumBentrok menjadi jumlah bentrok paling sedikit saat ini\n",
    "        iterasi += 1  # increment iterasi\n",
    "        print(f\"\\nIterasi: {iterasi}\\nJumlah Bentrok: {jumBentrok}\\nSolusi:\")\n",
    "        printJadwal(solusi)\n",
    "        print(\"-\" * 50)\n",
    "        if jumBentrok == 0:  # percabangan jika jumlah bentrok sudah 0\n",
    "            print(\"Solusi terbaik ditemukan\")\n",
    "            break\n",
    "    else:\n",
    "        print(\"Tidak ada tetangga yang lebih baik. Algoritma berhenti.\")\n",
    "        break\n",
    "\n",
    "print(\"\\nSolusi terbaik: \")\n",
    "printJadwal(solusi)\n",
    "print(\"Jumlah jadwal bentrok: \", jumBentrok)"
   ]
  },
  {
   "cell_type": "markdown",
   "metadata": {},
   "source": [
    "### Soal 2 (Bobot nilai `30`)"
   ]
  },
  {
   "cell_type": "markdown",
   "metadata": {},
   "source": [
    "SMA RezaHaHaHa memiliki 9 mata pelajaran yang harus dijadwalkan untuk satu semester. Terdapat 3 ruang kelas yang tersedia dan setiap mata pelajaran harus dijadwalkan pada salah satu dari 4 waktu yang tersedia dalam seminggu. \n",
    "\n",
    "**Syarat:**\n",
    "- Tidak boleh ada dua mata pelajaran yang dijadwalkan pada waktu yang sama.\n",
    "- Setiap mata pelajaran harus dijadwalkan tepat pada satu waktu dan satu ruang\n",
    "- ada beberapa mata pelajaran yang harus `diambil terlebih dahulu` sebelum mata pelajaran tertentu\n",
    "\n",
    "**Final State:**\n",
    "- Seluruh mata pelajaran telah dijadwalkan ke dalam ruangan dan waktu yang tersedia tanpa adanya bentrok dan sudah sesuai dengan syarat pengambilan mata pelajaran\n",
    "\n",
    "**Data mata pelajaran, ruang kelas, dan waktu yang tersedia**\n",
    "|Mata Pelajaran|Ruang Kelas|Waktu|\n",
    "|---|---|---|\n",
    "|Logika Matematika|Ruang 101|Senin 08:00|\n",
    "|Matematika Diskrit|Ruang 102|Senin 10:00|\n",
    "|Kalkulus|Ruang 103|Selasa 08:00|\n",
    "|Kalkulus Lanjut||Rabu 08:00|\n",
    "|Agama|||\n",
    "|Pendidikan Karakter|||\n",
    "|Biologi|||\n",
    "|Kimia|||\n",
    "|Fisika|||\n",
    "\n",
    "**Syarat tambahan**\n",
    "- Mata pelajaran `Kalkulus Lanjut` harus diambil setelah mata pelajaran `Kalkulus`\n",
    "- Mata pelajaran `Matematika Diskrit` harus diambil setelah mata pelajaran `Logika Matematika`"
   ]
  },
  {
   "cell_type": "markdown",
   "metadata": {},
   "source": [
    "Pro tips: ketiga fungsi sebelumnya, namun `buat ulang fungsi hitungBentrok` dan tambahkan algoritma untuk memeriksa urutan mata pelajaran"
   ]
  },
  {
   "cell_type": "code",
   "execution_count": 48,
   "metadata": {},
   "outputs": [],
   "source": [
    "# Buat ulang hitungBentrok, ketika urutan_mata_pelajaran salah maka bentrok akan di increment\n",
    "def hitungBentrok(solusi, urutan_mata_pelajaran):\n",
    "    jumlahBentrok = 0  # Inisiasi jumlah bentrok\n",
    "    jadwal = {}  # Dictionary untuk menyimpan jadwal\n",
    "\n",
    "    # Periksa bentrok berdasarkan ruangan dan waktu\n",
    "    for mataKuliah, (ruangan, waktu) in solusi.items():\n",
    "        key = (ruangan, waktu)  # Kombinasi ruangan dan waktu\n",
    "        if key in jadwal:  # Jika sudah ada jadwal di ruangan dan waktu yang sama\n",
    "            jumlahBentrok += 1  # Tambahkan jumlah bentrok\n",
    "        else:\n",
    "            jadwal[key] = mataKuliah  # Simpan jadwal\n",
    "\n",
    "    # Periksa bentrok berdasarkan urutan mata pelajaran\n",
    "    for i in range(len(urutan_mata_pelajaran) - 1):\n",
    "        mataPelajaranSebelum = urutan_mata_pelajaran[i]\n",
    "        mataPelajaranSesudah = urutan_mata_pelajaran[i + 1]\n",
    "\n",
    "        # Pastikan kedua mata pelajaran ada dalam solusi\n",
    "        if mataPelajaranSebelum in solusi and mataPelajaranSesudah in solusi:\n",
    "            waktuSebelum = solusi[mataPelajaranSebelum][1]\n",
    "            waktuSesudah = solusi[mataPelajaranSesudah][1]\n",
    "\n",
    "            # Jika waktu mata pelajaran sebelum lebih lambat atau sama dengan waktu sesudah\n",
    "            if waktu.index(waktuSebelum) >= waktu.index(waktuSesudah):\n",
    "                jumlahBentrok += 1  # Tambahkan jumlah bentrok\n",
    "\n",
    "    return jumlahBentrok"
   ]
  },
  {
   "cell_type": "code",
   "execution_count": 49,
   "metadata": {},
   "outputs": [],
   "source": [
    "# Inisiasi data\n",
    "urutan_mata_pelajaran = ['Logika Matematika', 'Matematika Diskrit', 'Kalkulus', 'Kalkulus Lanjut', 'Agama', 'Pendidikan Karakter', 'Biologi', 'Kimia', 'Fisika']\n",
    "mataPelajaran = ['Logika Matematika', 'Matematika Diskrit', 'Kalkulus', 'Kalkulus Lanjut', 'Agama', 'Pendidikan Karakter', 'Biologi', 'Kimia', 'Fisika']\n",
    "ruangKelas = ['Ruang 101', 'Ruang 102', 'Ruang 103']\n",
    "waktu = ['Senin 08:00', 'Senin 10:00', 'Selasa 08:00', 'Rabu 08:00']\n",
    "\n",
    "def hitungBentrok(solusi, urutan_mata_pelajaran):\n",
    "    jumlahBentrok = 0  # Inisiasi jumlah bentrok\n",
    "    jadwal = {}  # Dictionary untuk menyimpan jadwal\n",
    "\n",
    "    # Periksa bentrok berdasarkan ruangan dan waktu\n",
    "    for mataKuliah, (ruangan, waktu) in solusi.items():\n",
    "        key = (ruangan, waktu)  # Kombinasi ruangan dan waktu\n",
    "        if key in jadwal:  # Jika sudah ada jadwal di ruangan dan waktu yang sama\n",
    "            jumlahBentrok += 1  # Tambahkan jumlah bentrok\n",
    "        else:\n",
    "            jadwal[key] = mataKuliah  # Simpan jadwal\n",
    "\n",
    "    # Periksa bentrok berdasarkan urutan mata pelajaran\n",
    "    for i in range(len(urutan_mata_pelajaran) - 1):\n",
    "        mataPelajaranSebelum = urutan_mata_pelajaran[i]\n",
    "        mataPelajaranSesudah = urutan_mata_pelajaran[i + 1]\n",
    "\n",
    "        # Pastikan kedua mata pelajaran ada dalam solusi\n",
    "        if mataPelajaranSebelum in solusi and mataPelajaranSesudah in solusi:\n",
    "            waktuSebelum = solusi[mataPelajaranSebelum][1]\n",
    "            waktuSesudah = solusi[mataPelajaranSesudah][1]\n",
    "\n",
    "            # Pastikan waktuSebelum dan waktuSesudah ada dalam list waktu\n",
    "            if waktuSebelum in waktu and waktuSesudah in waktu:\n",
    "                # Jika waktu mata pelajaran sebelum lebih lambat atau sama dengan waktu sesudah\n",
    "                if waktu.index(waktuSebelum) >= waktu.index(waktuSesudah):\n",
    "                    jumlahBentrok += 1  # Tambahkan jumlah bentrok\n",
    "            else:\n",
    "                # Jika waktu tidak valid, tambahkan jumlah bentrok\n",
    "                jumlahBentrok += 1\n",
    "\n",
    "    return jumlahBentrok\n"
   ]
  },
  {
   "cell_type": "code",
   "execution_count": 50,
   "metadata": {},
   "outputs": [
    {
     "name": "stdout",
     "output_type": "stream",
     "text": [
      "Solusi Pertama:\n",
      "                       Ruangan         Waktu\n",
      "Logika Matematika    Ruang 102    Rabu 08:00\n",
      "Matematika Diskrit   Ruang 102  Selasa 08:00\n",
      "Kalkulus             Ruang 102   Senin 10:00\n",
      "Kalkulus Lanjut      Ruang 103   Senin 08:00\n",
      "Agama                Ruang 101   Senin 08:00\n",
      "Pendidikan Karakter  Ruang 102   Senin 10:00\n",
      "Biologi              Ruang 103  Selasa 08:00\n",
      "Kimia                Ruang 103    Rabu 08:00\n",
      "Fisika               Ruang 102   Senin 10:00\n"
     ]
    }
   ],
   "source": [
    "# Buat dan tampilkan solusi pertama\n",
    "solusiPertama = initiateSolusiAwal(mataPelajaran, ruangKelas, waktu)\n",
    "print(\"Solusi Pertama:\")\n",
    "printJadwal(solusiPertama)\n"
   ]
  },
  {
   "cell_type": "code",
   "execution_count": 51,
   "metadata": {},
   "outputs": [
    {
     "name": "stdout",
     "output_type": "stream",
     "text": [
      "Tidak ada tetangga yang lebih baik. Algoritma berhenti.\n"
     ]
    }
   ],
   "source": [
    "# Loop dengan mempertimbangkan jadwal bentrok dan urutan jadwal\n",
    "for solusiTetangga in tetangga:\n",
    "    bentrokTetangga = hitungBentrok(solusiTetangga, urutan_mata_pelajaran)\n",
    "    jumlahBentrokTetangga.append((solusiTetangga, bentrokTetangga))\n",
    "\n",
    "jumlahBentrokTetangga.sort(key=lambda x: x[1])\n",
    "bestTetangga, bestBentrok = jumlahBentrokTetangga[0]\n",
    "\n",
    "if bestBentrok < jumBentrok:\n",
    "    solusi = bestTetangga\n",
    "    jumBentrok = bestBentrok\n",
    "    iterasi += 1\n",
    "    print(f\"\\nIterasi: {iterasi}\\nJumlah Bentrok: {jumBentrok}\\nSolusi:\")\n",
    "    printJadwal(solusi)\n",
    "    print(\"-\" * 50)\n",
    "else:\n",
    "    print(\"Tidak ada tetangga yang lebih baik. Algoritma berhenti.\")\n"
   ]
  },
  {
   "cell_type": "markdown",
   "metadata": {},
   "source": [
    "## Simulated Annealing\n"
   ]
  },
  {
   "cell_type": "markdown",
   "metadata": {},
   "source": [
    "**Jangan lupa untuk selalu import *library* ketika memulai sesi baru (*run time*) atau kode Python yang memerlukan penggunaan library** "
   ]
  },
  {
   "cell_type": "code",
   "execution_count": 52,
   "metadata": {},
   "outputs": [],
   "source": [
    "import random\n",
    "import math\n",
    "import numpy as np \n",
    "import matplotlib.pyplot as plt"
   ]
  },
  {
   "cell_type": "markdown",
   "metadata": {},
   "source": [
    "### Soal Cerita"
   ]
  },
  {
   "cell_type": "markdown",
   "metadata": {},
   "source": [
    "Ekspedisi SiReza memiliki 1 kantor pusat dan beberapa lokasi pelanggan yang harus dikunjungi untuk pengiriman barang. Setiap pelanggan memiliki permintaan barang yang berbeda, dan setiap kendaraan memiliki kapasitas maksimum yang dapat diangkut.\n",
    "\n",
    "**Tujuan:**\n",
    "- Semua pelanggan berhasil dilayani\n",
    "- Total jarak tempuh kendaraan atau biaya operasional dapat diminimalkan\n",
    "- Kapasitas kendaraan tidak terlampaui\n",
    "\n",
    "**Data Perusahaan Ekspedisi:**\n",
    "- Kantor pusat berada di koordinat `(50,50)`\n",
    "- Jumlah kendaraan yang bisa digunakan adalah `3`\n",
    "- Kapasitas tiap kendaraan adalah `100`\n",
    "\n",
    "**Data Pelanggan:**\n",
    "|ID Pelanggan|Koordinat X|Koordinat Y|Kapasitas yang dibutuhkan|\n",
    "|---|---|---|---|\n",
    "|Cust-1001|10|20|10|\n",
    "|Cust-1002|15|25|15|\n",
    "|Cust-1003|20|30|20|\n",
    "|Cust-1004|35|35|25|\n",
    "|Cust-1005|40|40|30|\n",
    "|Cust-1006|45|45|35|\n",
    "|Cust-1007|50|55|40|\n",
    "|Cust-1008|55|60|45|\n",
    "|Cust-1009|60|65|50|\n",
    "|Cust-1010|65|70|55|\n",
    "\n",
    "**Penting! :**\n",
    "\n",
    "**`Hint:`**\n",
    "Banyak function yang menggunakan parameter dengan nama yang sama seperti \n",
    "- arrCust merupakan array customer yang memiliki data berbentuk list yang berisi banyak tupple, berikut contoh dari datanya:\n",
    "\n",
    "        arrCust = [\n",
    "            (customerID, X, Y, Kapasitas),\n",
    "            (customerID, X, Y, Kapasitas)\n",
    "        ]\n",
    "\n",
    "- routes akan berisi rute yang dilewati oleh ketiga kendaraan data tersebut akan berupa list yang memiliki 3 list didalamnya, berikut contoh dari datanya:\n",
    "\n",
    "        routes = [\n",
    "            [customerID, customerID, customerID],\n",
    "            [customerID, customerID],\n",
    "            [customerID, customerID, customerID, customerID]\n",
    "        ]"
   ]
  },
  {
   "cell_type": "markdown",
   "metadata": {},
   "source": [
    "#### 1. Buat fungsi untuk menghitung jarak euclidean (Bobot nilai: `5`)"
   ]
  },
  {
   "cell_type": "markdown",
   "metadata": {},
   "source": [
    "Jarak Euclidean antara dua titik, (x₁, y₁) dan (x₂, y₂), dihitung dengan rumus berikut:\n",
    "\n",
    "```math\n",
    "d(x₁, y₁, x₂, y₂) = \\sqrt{(x₂ - x₁)^2 + (y₂ - y₁)^2}\n",
    "````\n",
    "\n",
    "Pro tips: gunakan `math.sqrt()` untuk menghitung akar."
   ]
  },
  {
   "cell_type": "code",
   "execution_count": 53,
   "metadata": {},
   "outputs": [],
   "source": [
    "# Input berupa 2 tupple koordinat\n",
    "def jarakEuclidean(a, b):\n",
    "    return math.sqrt((b[0] - a[0])**2 + (b[1] - a[1])**2)  # hitung dengan menggunakan rumus jarak euclidean"
   ]
  },
  {
   "cell_type": "markdown",
   "metadata": {},
   "source": [
    "#### 2. Buat fungsi untuk mencari customer berdasarkan customer id (Bobot nilai: `5`)"
   ]
  },
  {
   "cell_type": "code",
   "execution_count": 54,
   "metadata": {},
   "outputs": [],
   "source": [
    "def cariPelanggan(customerID, arrCust):\n",
    "    for cust in arrCust:  # Telusuri seluruh customer dalam list customers\n",
    "        if cust[0] == customerID:  # Periksa apakah index pertama cust sama dengan customer id\n",
    "            return cust  # Kembalikan nilai dari cust\n",
    "    return None  # Kembalikan None jika tidak ditemukan pelanggan"
   ]
  },
  {
   "cell_type": "markdown",
   "metadata": {},
   "source": [
    "#### 3. Buat fungsi untuk menghitung jarak keseluruhan dalam list routes (Bobot nilai: `10`)"
   ]
  },
  {
   "cell_type": "code",
   "execution_count": 55,
   "metadata": {},
   "outputs": [],
   "source": [
    "def totalJarak(routes, pusat, arrCust):\n",
    "    distance = 0  # Set jarak awal\n",
    "    for route in routes:  # Telusuri seluruh rute pada routes\n",
    "        if len(route) == 0:  # Buat percabangan jika tidak ada pelanggan pada route\n",
    "            continue  # Skip iterasi ini ke iterasi selanjutnya\n",
    "        \n",
    "        # Mulai dari pusat\n",
    "        prev = pusat  # Inisiasi prev dengan koordinat kantor pusat\n",
    "        for customerID in route:  # Telusuri seluruh customer dalam route\n",
    "            customer = cariPelanggan(customerID, arrCust)  # Cari customer berdasarkan customerID dalam array customer\n",
    "            if customer is None:  # Jika customer tidak ditemukan\n",
    "                continue  # Skip iterasi ini ke iterasi selanjutnya\n",
    "            current = (customer[1], customer[2])  # Deklarasi lokasi saat ini berdasarkan koordinat customer yang telah ditemukan\n",
    "            distance += jarakEuclidean(prev, current)  # Hitung jarak dari lokasi sebelumnya ke lokasi saat ini\n",
    "            prev = current  # Perbarui lokasi prev dengan lokasi saat ini\n",
    "        distance += jarakEuclidean(prev, pusat)  # Hitung jarak kendaraan untuk kembali ke kantor pusat\n",
    "    return distance\n"
   ]
  },
  {
   "cell_type": "markdown",
   "metadata": {},
   "source": [
    "#### 4. Buat fungsi untuk melakukan validasi kapasitas pada list routes (Bobot nilai: `10`) "
   ]
  },
  {
   "cell_type": "code",
   "execution_count": 56,
   "metadata": {},
   "outputs": [],
   "source": [
    "def validateRoute(routes, arrCust, kapasitasMax):\n",
    "    for route in routes:  # Telusuri seluruh route pada routes\n",
    "        total = 0  # Inisiasi kapasitas\n",
    "        for customerID in route:  # Telusuri seluruh customer dalam route\n",
    "            customer = cariPelanggan(customerID, arrCust)  # Cari customer berdasarkan customerID dalam array customer\n",
    "            if customer is not None:  # Buat percabangan jika customer ditemukan atau tidak None\n",
    "                total += customer[3]  # Jumlahkan kapasitas yang dibutuhkan customer\n",
    "        if total > kapasitasMax:  # Cek apakah total sudah melebihi kapasitas maksimum atau belum\n",
    "            return False  # Apabila total sudah melebihi kapasitas maksimum maka validate akan mengembalikan nilai False\n",
    "    return True  # Kembalikan nilai boolean True jika semua rute valid"
   ]
  },
  {
   "cell_type": "markdown",
   "metadata": {},
   "source": [
    "#### 5. Buat fungsi untuk melakukan inisiasi solusi awal (Bobot nilai: `15`)"
   ]
  },
  {
   "cell_type": "code",
   "execution_count": 57,
   "metadata": {},
   "outputs": [],
   "source": [
    "def inisiasiSolusiAwal(jumlahKendaraan, arrCust, kapasitasMaksimum):\n",
    "    routes = [[] for _ in range(jumlahKendaraan)]  # Buat list kosong untuk setiap kendaraan\n",
    "    shuffleCust = [cust[0] for cust in arrCust]  # Ambil customer ID dari arrCust\n",
    "    random.shuffle(shuffleCust)  # Acak urutan customer ID\n",
    "\n",
    "    for customerID in shuffleCust:  # Telusuri seluruh customer ID yang telah diacak\n",
    "        customer = cariPelanggan(customerID, arrCust)  # Cari data customer berdasarkan ID\n",
    "        placed = False  # Inisiasi bahwa customer belum ditempatkan\n",
    "        for route in routes:  # Telusuri seluruh rute kendaraan\n",
    "            total = sum(cariPelanggan(cid, arrCust)[3] for cid in route)  # Hitung total kapasitas pada rute\n",
    "            if total + customer[3] <= kapasitasMaksimum:  # Periksa apakah kapasitas masih mencukupi\n",
    "                route.append(customerID)  # Tambahkan customer ID ke rute\n",
    "                placed = True  # Tandai bahwa customer telah ditempatkan\n",
    "                break  # Keluar dari loop rute\n",
    "        if not placed:  # Jika customer belum ditempatkan\n",
    "            routes[0].append(customerID)  # Tambahkan customer ke rute pertama sebagai fallback\n",
    "    return routes\n"
   ]
  },
  {
   "cell_type": "markdown",
   "metadata": {},
   "source": [
    "#### 6. Buat fungsi untuk mencari tetangga (Bobot nilai: `15`)"
   ]
  },
  {
   "cell_type": "code",
   "execution_count": 58,
   "metadata": {},
   "outputs": [],
   "source": [
    "def cariTetangga(routes, arrCust, kapasitasMax):\n",
    "    # Salin rute saat ini\n",
    "    new_routes = [route.copy() for route in routes]  # inisiasi rute baru dengan salinan dari rute saat ini\n",
    "    \n",
    "    # ambil 2 route secara random yang akan kita coba tukar customernya dengan menggunakan random.sample()\n",
    "    route1, route2 = random.sample(range(len(new_routes)), 2)\n",
    "    if len(new_routes[route1]) == 0 or len(new_routes[route2]) == 0:  # periksa apakah kedua route memiliki rute atau tidak\n",
    "        return new_routes  # jika kendaraan tidak memiliki rute maka tidak ada yang ditukar, fungsi akan langsung mengembalikan nilai rute yang sama\n",
    "    \n",
    "    # Pilih dua pelanggan secara acak dari rute yang berbeda dengan menggunakan fungsi random.choice()\n",
    "    customer1 = random.choice(new_routes[route1])\n",
    "    customer2 = random.choice(new_routes[route2])\n",
    "    \n",
    "    # Tukar pelanggan customer1 pada route1 dipindahkan ke route2 dan sebaliknya\n",
    "    new_routes[route1].remove(customer1)\n",
    "    new_routes[route2].remove(customer2)\n",
    "    new_routes[route1].append(customer2)\n",
    "    new_routes[route2].append(customer1)\n",
    "    \n",
    "    if validateRoute(new_routes, arrCust, kapasitasMax):  # validasi apakah rute tidak melebihi kapasitas maksimum \n",
    "        return new_routes\n",
    "    else:\n",
    "        return routes\n"
   ]
  },
  {
   "cell_type": "markdown",
   "metadata": {},
   "source": [
    "#### 7. Buat algoritma Simulated Annealing (Bobot nilai: `20`)"
   ]
  },
  {
   "cell_type": "code",
   "execution_count": 59,
   "metadata": {},
   "outputs": [],
   "source": [
    "def simulated_annealing(jumlahKendaraan, arrCust, kapasitasMaksimum, pusat):\n",
    "    # Inisiasi nilai awal dan jarak awal\n",
    "    currentSolution = inisiasiSolusiAwal(jumlahKendaraan, arrCust, kapasitasMaksimum)\n",
    "    currentCost = totalJarak(currentSolution, pusat, arrCust)\n",
    "    \n",
    "    # Tentukan best solution dan best Cost saat ini\n",
    "    bestSolution = currentSolution\n",
    "    bestCost = currentCost\n",
    "    \n",
    "    T = 1000  # Temperatur awal\n",
    "    T_min = 1\n",
    "    alpha = 0.95  # Faktor pendinginan\n",
    "    \n",
    "    while T > T_min:\n",
    "        for _ in range(100):\n",
    "            newSolution = cariTetangga(currentSolution, arrCust, kapasitasMaksimum)  # cari solusi baru dengan menggunakan fungsi cariTetangga()\n",
    "            newCost = totalJarak(newSolution, pusat, arrCust)  # hitung total jarak solusi baru\n",
    "            \n",
    "            delta = newCost - currentCost  # selisih cost baru dengan cost lama\n",
    "            if delta < 0 or random.uniform(0, 1) < math.exp(-delta / T):  # Jika memenuhi kondisi ini maka current solusi akan kita update\n",
    "                currentSolution = newSolution\n",
    "                currentCost = newCost\n",
    "                \n",
    "                if newCost < bestCost:  # Tentukan apakah cost baru merupakan cost terkecil\n",
    "                    # Update best solution dan best cost\n",
    "                    bestSolution = newSolution\n",
    "                    bestCost = newCost\n",
    "        T *= alpha  # temperature akan turun bergantung pada alpha\n",
    "    return bestSolution, bestCost\n"
   ]
  },
  {
   "cell_type": "markdown",
   "metadata": {},
   "source": [
    "#### 8. Buat main untuk mencari solusi terbaik dengan menggunakan fungsi yang telah dibangun (Bobot nilai: `20`)"
   ]
  },
  {
   "cell_type": "markdown",
   "metadata": {},
   "source": [
    "a. inisiasi data berdasarkan soal cerita diatas"
   ]
  },
  {
   "cell_type": "code",
   "execution_count": 60,
   "metadata": {},
   "outputs": [],
   "source": [
    "# Koordinat kantor pusat\n",
    "kantorPusat = (50, 50)\n",
    "\n",
    "# Data Pelanggan adalah list berisi tupple seperti tupple berikut (ID, X, Y, Permintaan)\n",
    "arrCust = [\n",
    "    ('Cust-1001', 10, 20, 10),\n",
    "    ('Cust-1002', 15, 25, 15),\n",
    "    ('Cust-1003', 20, 30, 20),\n",
    "    ('Cust-1004', 35, 35, 25),\n",
    "    ('Cust-1005', 40, 40, 30),\n",
    "    ('Cust-1006', 45, 45, 35),\n",
    "    ('Cust-1007', 50, 55, 40),\n",
    "    ('Cust-1008', 55, 60, 45),\n",
    "    ('Cust-1009', 60, 65, 50),\n",
    "    ('Cust-1010', 65, 70, 55)\n",
    "]\n",
    "\n",
    "# jumlah kendaraan\n",
    "jumlahKendaraan = 3\n",
    "\n",
    "# kapasitas maksimum kendaraan\n",
    "kapasitasMaksimum = 100\n"
   ]
  },
  {
   "cell_type": "markdown",
   "metadata": {},
   "source": [
    "b. cari solusi terbaik dan tampilkan solusi tersebut"
   ]
  },
  {
   "cell_type": "code",
   "execution_count": 61,
   "metadata": {},
   "outputs": [
    {
     "name": "stdout",
     "output_type": "stream",
     "text": [
      "Rute Terbaik:\n",
      "Kendaraan 1: kantor pusat -> Cust-1005 -> Cust-1008 -> Cust-1003 -> Cust-1002 -> Cust-1004 -> kantor pusat\n",
      "Kendaraan 2: kantor pusat -> Cust-1010 -> Cust-1006 -> Cust-1001 -> kantor pusat\n",
      "Kendaraan 3: kantor pusat -> Cust-1007 -> Cust-1009 -> kantor pusat\n",
      "\n",
      "Jarak Rute Terbaik:  323.0819484560834\n"
     ]
    }
   ],
   "source": [
    "# Panggil fungsi simulated_annealing untuk mencari best routes dan best distance\n",
    "bestRoutes, bestDistance = simulated_annealing(jumlahKendaraan, arrCust, kapasitasMaksimum, kantorPusat)\n",
    "\n",
    "# Print rute terbaik\n",
    "print(\"Rute Terbaik:\")\n",
    "for i, route in enumerate(bestRoutes):\n",
    "    print(f\"Kendaraan {i+1}: kantor pusat -> \", end=\"\")\n",
    "    for customerID in route:\n",
    "        print(customerID, end=\" -> \")\n",
    "    print(\"kantor pusat\")\n",
    "\n",
    "# Print jarak rute terbaik\n",
    "print(\"\\nJarak Rute Terbaik: \", bestDistance)\n"
   ]
  },
  {
   "cell_type": "markdown",
   "metadata": {},
   "source": [
    "|input|output|\n",
    "|---|---|\n",
    "||Rute Terbaik:| \n",
    "||Kendaraan 1: kantor pusat -> Cust-1009 -> Cust-1005 -> Cust-1001 -> Cust-1007 -> kantor pusat|\n",
    "||Kendaraan 2: kantor pusat -> Cust-1010 -> Cust-1004 -> Cust-1002 -> kantor pusat| \n",
    "||Kendaraan 3: kantor pusat -> Cust-1006 -> Cust-1008 -> Cust-1003 -> kantor pusat|\n",
    "||Jarak Rute Terbaik:  392.6104322407335|"
   ]
  },
  {
   "cell_type": "markdown",
   "metadata": {},
   "source": [
    "c. Visualisasikan rute yang akan dilalui tiap kendaraan"
   ]
  },
  {
   "cell_type": "code",
   "execution_count": 62,
   "metadata": {},
   "outputs": [
    {
     "data": {
      "image/png": "[encoded data removed]",
      "text/plain": [
       "<Figure size 640x480 with 1 Axes>"
      ]
     },
     "metadata": {},
     "output_type": "display_data"
    },
    {
     "data": {
      "image/png": "[encoded data removed]",
      "text/plain": [
       "<Figure size 640x480 with 1 Axes>"
      ]
     },
     "metadata": {},
     "output_type": "display_data"
    },
    {
     "data": {
      "image/png": "[encoded data removed]",
      "text/plain": [
       "<Figure size 640x480 with 1 Axes>"
      ]
     },
     "metadata": {},
     "output_type": "display_data"
    }
   ],
   "source": [
    "# buat list berisi 3 list yang akan menampung rute ketiga kendaraan\n",
    "route_coords = [[], [], []] \n",
    "\n",
    "# lakukan loop sebanyak kendaraan yang perusahaan miliki\n",
    "for i in range(jumlahKendaraan):\n",
    "    # kendaraan berasal dari kantor pusat dan akan kembali ke kantor pusat maka masukkan koordinat kantor pusat\n",
    "    route_coords[i].append(kantorPusat) \n",
    "    for cust in bestRoutes[i]:\n",
    "        customer = cariPelanggan(cust, arrCust)\n",
    "        coor = (customer[1], customer[2])\n",
    "        route_coords[i].append(coor)\n",
    "    \n",
    "    # kendaraan berasal dari kantor pusat dan akan kembali ke kantor pusat maka masukkan koordinat kantor pusat\n",
    "    route_coords[i].append(kantorPusat)\n",
    "\n",
    "# lakukan enumerate untuk semua koordinat rute kendaraan\n",
    "for i, route in enumerate(route_coords):\n",
    "    # buat figure baru untuk setiap rute kendaraan\n",
    "    plt.figure()  \n",
    "    \n",
    "    # lakukan transpos rute dengan zip()\n",
    "    x, y = zip(*route)\n",
    "    \n",
    "    # buat plot untuk koordinat rutenya\n",
    "    plt.plot(x, y, marker='o', label=f'Kendaraan {i+1}')\n",
    "\n",
    "    # tandai kantor pusat\n",
    "    plt.scatter(kantorPusat[0], kantorPusat[1], c='red', marker='s', label='Kantor Pusat')\n",
    "\n",
    "    plt.title(f'Rute Perjalanan Kendaraan ke-{i+1}')\n",
    "    plt.xlabel('X')\n",
    "    plt.ylabel('Y')\n",
    "    plt.legend()\n",
    "    plt.grid(True)\n",
    "    plt.show()\n"
   ]
  },
  {
   "cell_type": "markdown",
   "metadata": {},
   "source": [
    "contoh *output*\n",
    "\n",
    "**rute kendaraan 1**\n",
    "\n",
    "<img src=\"./asset/Kendaraan_1.png\" alt=\"Rute Kendaraan 1\" style=\"width: 50%; height: auto;\">\n",
    "\n",
    "**rute kendaraan 2**\n",
    "\n",
    "<img src=\"./asset/Kendaraan_2.png\" alt=\"Rute Kendaraan 2\" style=\"width: 50%; height: auto;\">\n",
    "\n",
    "**rute kendaraan 3**\n",
    "\n",
    "<img src=\"./asset/Kendaraan_3.png\" alt=\"Rute Kendaraan 3\" style=\"width: 50%; height: auto;\">\n"
   ]
  }
 ],
 "metadata": {
  "kernelspec": {
   "display_name": "Python 3 (ipykernel)",
   "language": "python",
   "name": "python3"
  },
  "language_info": {
   "codemirror_mode": {
    "name": "ipython",
    "version": 3
   },
   "file_extension": ".py",
   "mimetype": "text/x-python",
   "name": "python",
   "nbconvert_exporter": "python",
   "pygments_lexer": "ipython3",
   "version": "3.11.2"
  }
 },
 "nbformat": 4,
 "nbformat_minor": 2
}
