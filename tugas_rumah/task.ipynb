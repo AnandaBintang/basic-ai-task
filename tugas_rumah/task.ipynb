{
 "cells": [
  {
   "cell_type": "code",
   "execution_count": 8,
   "id": "1cf43f99",
   "metadata": {},
   "outputs": [],
   "source": [
    "from sympy import symbols, Eq, solve, diff, sin, integrate, sqrt, Matrix"
   ]
  },
  {
   "cell_type": "markdown",
   "id": "719d7dc6",
   "metadata": {},
   "source": [
    "# Soal 1"
   ]
  },
  {
   "cell_type": "code",
   "execution_count": 4,
   "id": "f5f3e152",
   "metadata": {},
   "outputs": [
    {
     "name": "stdout",
     "output_type": "stream",
     "text": [
      "Akar persamaan 1: [2]\n",
      "Akar persamaan 2: [-1, 4]\n",
      "Akar persamaan 3: [3]\n",
      "Akar persamaan 4: [1/2 - sqrt(5)/2, 1/2 + sqrt(5)/2]\n",
      "Akar persamaan 5: [1, 2, 3]\n",
      "Akar persamaan 6: [1, 3]\n",
      "Akar persamaan 7: [CRootOf(x**5 + 7*x**4 - 9*x**2 + 15*x + 2, 0), CRootOf(x**5 + 7*x**4 - 9*x**2 + 15*x + 2, 1), CRootOf(x**5 + 7*x**4 - 9*x**2 + 15*x + 2, 2), CRootOf(x**5 + 7*x**4 - 9*x**2 + 15*x + 2, 3), CRootOf(x**5 + 7*x**4 - 9*x**2 + 15*x + 2, 4)]\n",
      "Akar persamaan 8: [CRootOf(x**5 + 9*x**2 + 2, 0), CRootOf(x**5 + 9*x**2 + 2, 1), CRootOf(x**5 + 9*x**2 + 2, 2), CRootOf(x**5 + 9*x**2 + 2, 3), CRootOf(x**5 + 9*x**2 + 2, 4)]\n"
     ]
    }
   ],
   "source": [
    "x = symbols('x')\n",
    "\n",
    "# List of equations\n",
    "equations = [\n",
    "    Eq(x - 2, 0),\n",
    "    Eq(x**2 - 3*x - 4, 0),\n",
    "    Eq(x**2 - 6*x + 9, 0),\n",
    "    Eq(x**2 - x - 1, 0),\n",
    "    Eq(x**3 - 6*x**2 + 11*x - 6, 0),\n",
    "    Eq(x**3 - 7*x**2 + 15*x - 9, 0),\n",
    "    Eq(x**5 + 7*x**4 - 9*x**2 + 15*x + 2, 0),\n",
    "    Eq(x**5 + 9*x**2 + 2, 0)\n",
    "]\n",
    "\n",
    "# Solve and print roots for each equation\n",
    "for i, eq in enumerate(equations, 1):\n",
    "    roots = solve(eq, x)\n",
    "    print(f\"Akar persamaan {i}: {roots}\")"
   ]
  },
  {
   "cell_type": "markdown",
   "id": "9c700aae",
   "metadata": {},
   "source": [
    "# Soal 2"
   ]
  },
  {
   "cell_type": "code",
   "execution_count": 5,
   "id": "80ee63db",
   "metadata": {},
   "outputs": [
    {
     "name": "stdout",
     "output_type": "stream",
     "text": [
      "Turunan soal 1: 3*x**2 + 6*x + 6\n",
      "Turunan soal 2: 5*x**4 + 4*x**3\n",
      "Turunan soal 3: 9*(3*x + 5)**2\n",
      "Turunan soal 4: -25*(3 - 5*x)**4\n",
      "Turunan soal 5: 7*cos(7*x)\n",
      "Turunan soal 6: 3*x**2*cos(x**3)\n",
      "Turunan soal 7: -1/(x - 1)**2\n",
      "Turunan soal 8: 3*x/(1 - x)**2 + 3/(1 - x)\n"
     ]
    }
   ],
   "source": [
    "# Daftar fungsi dari soal pada gambar\n",
    "functions = [\n",
    "    x**3 + 3*x**2 + 6*x,         # 1\n",
    "    x**5 + x**4,                 # 2\n",
    "    (3*x + 5)**3,                # 3\n",
    "    (3 - 5*x)**5,                # 4\n",
    "    sin(7*x),                    # 5\n",
    "    sin(x**3),                   # 6\n",
    "    1/(x - 1),                   # 7\n",
    "    3*x/(1 - x)                  # 8\n",
    "]\n",
    "\n",
    "# Hitung turunan pertama untuk setiap fungsi\n",
    "derivatives = [diff(f, x) for f in functions]\n",
    "\n",
    "# Tampilkan hasil turunan\n",
    "for idx, d in enumerate(derivatives, 1):\n",
    "    print(f\"Turunan soal {idx}: {d}\")"
   ]
  },
  {
   "cell_type": "markdown",
   "id": "174a784c",
   "metadata": {},
   "source": [
    "# Soal 3"
   ]
  },
  {
   "cell_type": "code",
   "execution_count": 7,
   "id": "c78f0f2e",
   "metadata": {},
   "outputs": [
    {
     "name": "stdout",
     "output_type": "stream",
     "text": [
      "Integral soal 1: 4\n",
      "Integral soal 2: 33/5\n",
      "Integral soal 3: 15\n",
      "Integral soal 4: 276\n",
      "Integral soal 5: 3/4\n",
      "Integral soal 6: 8/9\n",
      "Integral soal 7: 16/3\n",
      "Integral soal 8: 11.2500000000000\n",
      "Integral soal 9: 1783/96\n",
      "Integral soal 10: 15\n",
      "Integral soal 11: 1.00000000000000\n",
      "Integral soal 12: 1.73205080756888\n",
      "Integral soal 13: 22/5\n",
      "Integral soal 14: -1.07142857142857\n"
     ]
    }
   ],
   "source": [
    "# Definisikan simbol yang diperlukan\n",
    "w, t, y, s = symbols('w t y s')\n",
    "\n",
    "# Daftar integral sesuai soal pada gambar\n",
    "integrals = [\n",
    "    integrate(x**3, (x, 0, 2)),                                 # 1\n",
    "    integrate(x**4, (x, -1, 2)),                                # 2\n",
    "    integrate(3*x**2 - 2*x + 3, (x, -1, 2)),                    # 3\n",
    "    integrate(4*x**3 + 7, (x, 1, 4)),                           # 4\n",
    "    integrate(1/w**2, (w, 1, 4)),                               # 5\n",
    "    integrate(2/t**3, (t, 1, 3)),                               # 6\n",
    "    integrate(sqrt(t), (t, 0, 4)),                              # 7\n",
    "    integrate(w**(1/3), (w, 1, 8)),                             # 8\n",
    "    integrate(y**2 + 1/y**3, (y, -4, -2)),                      # 9\n",
    "    integrate((s**4 - 8)/s**2, (s, 1, 4)),                      # 10\n",
    "    integrate(sin(x), (x, 0, 3.141592653589793/2)),             # 11\n",
    "    integrate(2*sin(t), (t, 3.141592653589793/6, 3.141592653589793/2)), # 12\n",
    "    integrate(2*x**4 - 3*x**2 + 5, (x, 0, 1)),                  # 13\n",
    "    integrate(x**(4/3) - 2*x**(1/3), (x, 0, 1))                 # 14\n",
    "]\n",
    "\n",
    "# Tampilkan hasil integral tentu\n",
    "for idx, result in enumerate(integrals, 1):\n",
    "    print(f\"Integral soal {idx}: {result}\")"
   ]
  },
  {
   "cell_type": "markdown",
   "id": "b8a80de1",
   "metadata": {},
   "source": [
    "# Soal 4"
   ]
  },
  {
   "cell_type": "code",
   "execution_count": 9,
   "id": "90dfe4d8",
   "metadata": {},
   "outputs": [
    {
     "name": "stdout",
     "output_type": "stream",
     "text": [
      "Determinan matriks A adalah: -6\n"
     ]
    }
   ],
   "source": [
    "# Definisikan matriks A sesuai gambar\n",
    "A = Matrix([\n",
    "    [1, 0, 0, -1],\n",
    "    [3, 1, 2, 2],\n",
    "    [1, 0, -2, 1],\n",
    "    [2, 0, 0, 1]\n",
    "])\n",
    "\n",
    "# Hitung determinan matriks A\n",
    "det_A = A.det()\n",
    "print(f\"Determinan matriks A adalah: {det_A}\")"
   ]
  }
 ],
 "metadata": {
  "kernelspec": {
   "display_name": "Python 3 (ipykernel)",
   "language": "python",
   "name": "python3"
  }
 },
 "nbformat": 4,
 "nbformat_minor": 5
}
