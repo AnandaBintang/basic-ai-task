{
 "cells": [
  {
   "cell_type": "code",
   "execution_count": 1,
   "id": "cadf005e",
   "metadata": {},
   "outputs": [],
   "source": [
    "import random\n",
    "import math"
   ]
  },
  {
   "cell_type": "code",
   "execution_count": null,
   "id": "74a31ca4",
   "metadata": {},
   "outputs": [],
   "source": [
    "def distance(city1, city2):\n",
    "    return math.sqrt((city1[0] - city2[0]) ** 2 + (city1[1] - city2[1]) ** 2)\n",
    "def total_distance(tour, cities):\n",
    "    dist = 0\n",
    "    for i in range(len(tour)):\n",
    "        dist += distance(cities[tour[i]], cities[tour[(i + 1) % len(tour)]])\n",
    "    return dist\n",
    "def random_swap(tour):\n",
    "    new_tour = tour [:]\n",
    "    i, j = random.sample(range(len(tour)), 2)\n",
    "    new_tour[i], new_tour[j] = new_tour[j], new_tour[i]\n",
    "    return new_tour\n"
   ]
  },
  {
   "cell_type": "code",
   "execution_count": null,
   "id": "2db4ba60",
   "metadata": {},
   "outputs": [
    {
     "name": "stdout",
     "output_type": "stream",
     "text": [
      "Solusi terbaik (urutan kota): [1, 3, 4, 0, 2, 6, 5, 7]\n",
      "Total jarak terbaik: 136.2471001681114\n"
     ]
    }
   ],
   "source": [
    "def simulated_annealing(cities, initial_temp, cooling_rate, stopping_temp):\n",
    "    current_solution = list(range(len(cities)))\n",
    "    random.shuffle(current_solution)\n",
    "    current_distance = total_distance(current_solution, cities) # Ngitung jarak total\n",
    "    \n",
    "    # Inisialisasi solusi terbaik\n",
    "    best_solution = current_solution[:]\n",
    "    best_distance = current_distance\n",
    "    temp = initial_temp\n",
    "    \n",
    "    # Proses Simulated Annealing (looping selama suhu di atas suhu berhenti)\n",
    "    while temp > stopping_temp:\n",
    "        # Generate solusi baru dengan menukar dua kota\n",
    "        new_solution = random_swap(current_solution)\n",
    "        new_distance = total_distance(new_solution, cities)\n",
    "        if new_distance < current_distance: # Jika jarak baru lebih baik\n",
    "            # Terima solusi baru\n",
    "            current_solution = new_solution[:]\n",
    "            current_distance = new_distance\n",
    "        else: # Jika jarak baru lebih buruk\n",
    "            # Terima solusi baru dengan probabilitas tertentu\n",
    "            if random.random() < math.exp((current_distance - new_distance)/temp):\n",
    "                current_solution = new_solution[:]\n",
    "                current_distance = new_distance\n",
    "        # Update solusi terbaik jika jarak baru lebih baik\n",
    "        if current_distance < best_distance:\n",
    "            best_solution = current_solution[:]\n",
    "            best_distance = current_distance\n",
    "        # Turunkan suhu\n",
    "        temp *= cooling_rate\n",
    "    return best_solution, best_distance\n",
    "cities = [\n",
    "    (10, 20),\n",
    "    (35, 15),\n",
    "    (5, 40),\n",
    "    (25, 30),\n",
    "    (15, 25),\n",
    "    (35, 40),\n",
    "    (20, 40),\n",
    "    (50, 10)\n",
    "]\n",
    "init = 10000\n",
    "Cooling = 0.995 \n",
    "Stop = 1 \n",
    "best_solution, best_distance = simulated_annealing(cities, init, Cooling, Stop)\n",
    "print(\"Solusi terbaik (urutan kota):\", best_solution)\n",
    "print(\"Total jarak terbaik:\", best_distance)\n",
    "\n",
    "\n",
    "\n"
   ]
  }
 ],
 "metadata": {
  "kernelspec": {
   "display_name": "Python 3 (ipykernel)",
   "language": "python",
   "name": "python3"
  },
  "language_info": {
   "codemirror_mode": {
    "name": "ipython",
    "version": 3
   },
   "file_extension": ".py",
   "mimetype": "text/x-python",
   "name": "python",
   "nbconvert_exporter": "python",
   "pygments_lexer": "ipython3",
   "version": "3.11.2"
  }
 },
 "nbformat": 4,
 "nbformat_minor": 5
}
