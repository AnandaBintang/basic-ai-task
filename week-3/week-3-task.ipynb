{
 "cells": [
  {
   "cell_type": "code",
   "execution_count": 1,
   "id": "9027569e-8437-49de-970f-c73fcfc25440",
   "metadata": {},
   "outputs": [
    {
     "name": "stdout",
     "output_type": "stream",
     "text": [
      "None\n"
     ]
    }
   ],
   "source": [
    "print(\"Hello, World!\")"
   ]
  },
  {
   "cell_type": "code",
   "execution_count": null,
   "id": "2a03267e-f139-4290-a4fc-6ef30f3ecc7a",
   "metadata": {},
   "outputs": [
    {
     "name": "stdout",
     "output_type": "stream",
     "text": [
      "1\n"
     ]
    }
   ],
   "source": [
    "akar_sembilan = 9**(1/2)\n",
    "print(akar_sembilan)"
   ]
  },
  {
   "cell_type": "code",
   "execution_count": 2,
   "id": "688649e1-e378-4ff9-b06e-522d5a30ef80",
   "metadata": {},
   "outputs": [
    {
     "name": "stdout",
     "output_type": "stream",
     "text": [
      "285.0\n"
     ]
    }
   ],
   "source": [
    "x = input(\"Masukkan nilai x: \") # Minta input user dengan deskripsi yang sesuai\n",
    "x = float(x)\n",
    "\n",
    "hasil_persamaan = 20*x**2 + 25*x + 30\n",
    "print(hasil_persamaan)"
   ]
  },
  {
   "cell_type": "code",
   "execution_count": 3,
   "id": "a3a683bc",
   "metadata": {},
   "outputs": [
    {
     "name": "stdout",
     "output_type": "stream",
     "text": [
      "450.0\n"
     ]
    }
   ],
   "source": [
    "x = input(\"Masukkan nilai x: \") # Minta input user dengan deskripsi yang sesuai\n",
    "x = float(x)\n",
    "\n",
    "hasil_persamaan = 20*x**2 + 25*x + 30\n",
    "print(hasil_persamaan)"
   ]
  },
  {
   "cell_type": "code",
   "execution_count": 4,
   "id": "58284c8b-8846-485c-bab9-271b94225ac9",
   "metadata": {},
   "outputs": [
    {
     "name": "stdout",
     "output_type": "stream",
     "text": [
      "655.0\n"
     ]
    }
   ],
   "source": [
    "x = input(\"Masukkan nilai x: \") # Minta input user dengan deskripsi yang sesuai\n",
    "x = float(x)\n",
    "\n",
    "hasil_persamaan = 20*x**2 + 25*x + 30\n",
    "print(hasil_persamaan)"
   ]
  },
  {
   "cell_type": "code",
   "execution_count": 5,
   "id": "4ead381c",
   "metadata": {},
   "outputs": [
    {
     "name": "stdout",
     "output_type": "stream",
     "text": [
      "Bilangan Ganjil\n"
     ]
    }
   ],
   "source": [
    "n = input(\"Masukkan Angka yang ingin dicek : \") # Minta input user dengan deskripsi yang sesuai\n",
    "n = int(n) # Ubah tipe data n menjadi integer\n",
    "\n",
    "if n % 2 == 0 : # Cek apakah x nilai genap\n",
    "    print(\"Bilangan Genap\")\n",
    "else:\n",
    "    print(\"Bilangan Ganjil\")"
   ]
  },
  {
   "cell_type": "code",
   "execution_count": 6,
   "id": "2650dd7b",
   "metadata": {},
   "outputs": [
    {
     "name": "stdout",
     "output_type": "stream",
     "text": [
      "Bilangan Genap\n"
     ]
    }
   ],
   "source": [
    "n = input(\"Masukkan Angka yang ingin dicek : \") # Minta input user dengan deskripsi yang sesuai\n",
    "n = int(n) # Ubah tipe data n menjadi integer\n",
    "\n",
    "if n % 2 == 0 : # Cek apakah x nilai genap\n",
    "    print(\"Bilangan Genap\")\n",
    "else:\n",
    "    print(\"Bilangan Ganjil\")"
   ]
  },
  {
   "cell_type": "code",
   "execution_count": 7,
   "id": "2f7dd4fd",
   "metadata": {},
   "outputs": [
    {
     "name": "stdout",
     "output_type": "stream",
     "text": [
      "Bilangan Ganjil\n"
     ]
    }
   ],
   "source": [
    "n = input(\"Masukkan Angka yang ingin dicek : \") # Minta input user dengan deskripsi yang sesuai\n",
    "n = int(n) # Ubah tipe data n menjadi integer\n",
    "\n",
    "if n % 2 == 0 : # Cek apakah x nilai genap\n",
    "    print(\"Bilangan Genap\")\n",
    "else:\n",
    "    print(\"Bilangan Ganjil\")"
   ]
  },
  {
   "cell_type": "code",
   "execution_count": 8,
   "id": "ad6d6e4c",
   "metadata": {},
   "outputs": [
    {
     "name": "stdout",
     "output_type": "stream",
     "text": [
      "Nilai A\n"
     ]
    }
   ],
   "source": [
    "nilai = input(\"Masukkan Nilai : \") # Minta input user dengan deskripsi yang sesuai\n",
    "nilai = float(nilai) # Ubah tipe data nilai menjadi float\n",
    "\n",
    "# Buat program di atas dengan menggunakan pengkondisian\n",
    "if nilai >= 85 and nilai <= 100:\n",
    "    print(\"Nilai A\")\n",
    "elif nilai >= 70 and nilai < 85:\n",
    "    print(\"Nilai B\")\n",
    "elif nilai >= 55 and nilai < 70:\n",
    "    print(\"Nilai C\")\n",
    "elif nilai >= 40 and nilai < 55:\n",
    "    print(\"Nilai D\")\n",
    "elif nilai >= 0 and nilai < 40:\n",
    "    print(\"Nilai E\")\n",
    "else:\n",
    "    print(\"Nilai Invalid\")\n",
    "    "
   ]
  },
  {
   "cell_type": "code",
   "execution_count": 9,
   "id": "bba04202",
   "metadata": {},
   "outputs": [
    {
     "name": "stdout",
     "output_type": "stream",
     "text": [
      "Nilai B\n"
     ]
    }
   ],
   "source": [
    "nilai = input(\"Masukkan Nilai : \") # Minta input user dengan deskripsi yang sesuai\n",
    "nilai = float(nilai) # Ubah tipe data nilai menjadi float\n",
    "\n",
    "# Buat program di atas dengan menggunakan pengkondisian\n",
    "if nilai >= 85 and nilai <= 100:\n",
    "    print(\"Nilai A\")\n",
    "elif nilai >= 70 and nilai < 85:\n",
    "    print(\"Nilai B\")\n",
    "elif nilai >= 55 and nilai < 70:\n",
    "    print(\"Nilai C\")\n",
    "elif nilai >= 40 and nilai < 55:\n",
    "    print(\"Nilai D\")\n",
    "elif nilai >= 0 and nilai < 40:\n",
    "    print(\"Nilai E\")\n",
    "else:\n",
    "    print(\"Nilai Invalid\")\n",
    "    "
   ]
  },
  {
   "cell_type": "code",
   "execution_count": 10,
   "id": "cc733111",
   "metadata": {},
   "outputs": [
    {
     "name": "stdout",
     "output_type": "stream",
     "text": [
      "Nilai D\n"
     ]
    }
   ],
   "source": [
    "nilai = input(\"Masukkan Nilai : \") # Minta input user dengan deskripsi yang sesuai\n",
    "nilai = float(nilai) # Ubah tipe data nilai menjadi float\n",
    "\n",
    "# Buat program di atas dengan menggunakan pengkondisian\n",
    "if nilai >= 85 and nilai <= 100:\n",
    "    print(\"Nilai A\")\n",
    "elif nilai >= 70 and nilai < 85:\n",
    "    print(\"Nilai B\")\n",
    "elif nilai >= 55 and nilai < 70:\n",
    "    print(\"Nilai C\")\n",
    "elif nilai >= 40 and nilai < 55:\n",
    "    print(\"Nilai D\")\n",
    "elif nilai >= 0 and nilai < 40:\n",
    "    print(\"Nilai E\")\n",
    "else:\n",
    "    print(\"Nilai Invalid\")\n",
    "    "
   ]
  },
  {
   "cell_type": "code",
   "execution_count": 11,
   "id": "5b4fea9e",
   "metadata": {},
   "outputs": [
    {
     "name": "stdout",
     "output_type": "stream",
     "text": [
      "Selamat Datang Afeef!\n"
     ]
    }
   ],
   "source": [
    "def greet_reza(nama) :\n",
    "    if nama == \"Reza\" :\n",
    "        print(\"Selamat Datang Kembali \" + nama + \"!\")\n",
    "    else :\n",
    "        print(\"Selamat Datang \" + nama + \"!\")\n",
    "\n",
    "input_nama = input(\"Masukkan Nama Kamu : \") # Minta input user dengan deskripsi yang sesuai\n",
    "\n",
    "greet_reza(input_nama)"
   ]
  },
  {
   "cell_type": "code",
   "execution_count": 12,
   "id": "e33d4021",
   "metadata": {},
   "outputs": [
    {
     "name": "stdout",
     "output_type": "stream",
     "text": [
      "Selamat Datang Kembali Reza!\n"
     ]
    }
   ],
   "source": [
    "def greet_reza(nama) :\n",
    "    if nama == \"Reza\" :\n",
    "        print(\"Selamat Datang Kembali \" + nama + \"!\")\n",
    "    else :\n",
    "        print(\"Selamat Datang \" + nama + \"!\")\n",
    "\n",
    "input_nama = input(\"Masukkan Nama Kamu : \") # Minta input user dengan deskripsi yang sesuai\n",
    "\n",
    "greet_reza(input_nama)"
   ]
  },
  {
   "cell_type": "code",
   "execution_count": 13,
   "id": "8fafa558",
   "metadata": {},
   "outputs": [
    {
     "name": "stdout",
     "output_type": "stream",
     "text": [
      "Selamat Datang Tiara!\n"
     ]
    }
   ],
   "source": [
    "def greet_reza(nama) :\n",
    "    if nama == \"Reza\" :\n",
    "        print(\"Selamat Datang Kembali \" + nama + \"!\")\n",
    "    else :\n",
    "        print(\"Selamat Datang \" + nama + \"!\")\n",
    "\n",
    "input_nama = input(\"Masukkan Nama Kamu : \") # Minta input user dengan deskripsi yang sesuai\n",
    "\n",
    "greet_reza(input_nama)"
   ]
  },
  {
   "cell_type": "code",
   "execution_count": 14,
   "id": "02146ea4",
   "metadata": {},
   "outputs": [
    {
     "name": "stdout",
     "output_type": "stream",
     "text": [
      "3.0 kilometer sama dengan 3000.0 meter\n"
     ]
    }
   ],
   "source": [
    "def km_to_m(km):\n",
    "    return km * 1000\n",
    "\n",
    "km_input = float(input(\"Masukkan jarak dalam kilometer: \"))\n",
    "hasil_konversi = km_to_m(km_input)\n",
    "\n",
    "print(f\"{km_input} kilometer sama dengan {hasil_konversi} meter\")"
   ]
  },
  {
   "cell_type": "code",
   "execution_count": 15,
   "id": "33658100",
   "metadata": {},
   "outputs": [
    {
     "name": "stdout",
     "output_type": "stream",
     "text": [
      "4.0 kilometer sama dengan 4000.0 meter\n"
     ]
    }
   ],
   "source": [
    "def km_to_m(km):\n",
    "    return km * 1000\n",
    "\n",
    "km_input = float(input(\"Masukkan jarak dalam kilometer: \"))\n",
    "hasil_konversi = km_to_m(km_input)\n",
    "\n",
    "print(f\"{km_input} kilometer sama dengan {hasil_konversi} meter\")"
   ]
  },
  {
   "cell_type": "code",
   "execution_count": 16,
   "id": "63e7e957",
   "metadata": {},
   "outputs": [
    {
     "name": "stdout",
     "output_type": "stream",
     "text": [
      "5.5 kilometer sama dengan 5500.0 meter\n"
     ]
    }
   ],
   "source": [
    "def km_to_m(km):\n",
    "    return km * 1000\n",
    "\n",
    "km_input = float(input(\"Masukkan jarak dalam kilometer: \"))\n",
    "hasil_konversi = km_to_m(km_input)\n",
    "\n",
    "print(f\"{km_input} kilometer sama dengan {hasil_konversi} meter\")"
   ]
  },
  {
   "cell_type": "code",
   "execution_count": 17,
   "id": "aa290cff",
   "metadata": {},
   "outputs": [
    {
     "name": "stdout",
     "output_type": "stream",
     "text": [
      "1\n"
     ]
    }
   ],
   "source": [
    "n = int(input(\"Masukkan bilangan bulat positif: \"))\n",
    "\n",
    "for i in range(1, n+1, 2):\n",
    "    print(i)"
   ]
  },
  {
   "cell_type": "code",
   "execution_count": 18,
   "id": "e6471c4f",
   "metadata": {},
   "outputs": [
    {
     "name": "stdout",
     "output_type": "stream",
     "text": [
      "1\n",
      "3\n",
      "5\n"
     ]
    }
   ],
   "source": [
    "n = int(input(\"Masukkan bilangan bulat positif: \"))\n",
    "\n",
    "for i in range(1, n+1, 2):\n",
    "    print(i)"
   ]
  },
  {
   "cell_type": "code",
   "execution_count": 19,
   "id": "f5121269",
   "metadata": {},
   "outputs": [
    {
     "name": "stdout",
     "output_type": "stream",
     "text": [
      "1\n",
      "3\n",
      "5\n",
      "7\n",
      "9\n",
      "11\n"
     ]
    }
   ],
   "source": [
    "n = int(input(\"Masukkan bilangan bulat positif: \"))\n",
    "\n",
    "for i in range(1, n+1, 2):\n",
    "    print(i)"
   ]
  },
  {
   "cell_type": "code",
   "execution_count": 21,
   "id": "b273430b",
   "metadata": {},
   "outputs": [
    {
     "name": "stdout",
     "output_type": "stream",
     "text": [
      "15\n"
     ]
    }
   ],
   "source": [
    "def hitung_penjumlahan(n):\n",
    "    if n < 1:\n",
    "        return 0\n",
    "    else:\n",
    "        total = 0\n",
    "        i = 1\n",
    "        while i <= n:\n",
    "            total += i\n",
    "            i += 1\n",
    "        return total\n",
    "\n",
    "n = 5\n",
    "hasil_penjumlahan = hitung_penjumlahan(n)\n",
    "print(hasil_penjumlahan)\n"
   ]
  },
  {
   "cell_type": "code",
   "execution_count": 22,
   "id": "743780b8",
   "metadata": {},
   "outputs": [
    {
     "name": "stdout",
     "output_type": "stream",
     "text": [
      "55\n"
     ]
    }
   ],
   "source": [
    "def hitung_penjumlahan(n):\n",
    "    if n < 1:\n",
    "        return 0\n",
    "    else:\n",
    "        total = 0\n",
    "        i = 1\n",
    "        while i <= n:\n",
    "            total += i\n",
    "            i += 1\n",
    "        return total\n",
    "\n",
    "n = 10\n",
    "hasil_penjumlahan = hitung_penjumlahan(n)\n",
    "print(hasil_penjumlahan)\n"
   ]
  },
  {
   "cell_type": "code",
   "execution_count": 23,
   "id": "e47133e9",
   "metadata": {},
   "outputs": [
    {
     "name": "stdout",
     "output_type": "stream",
     "text": [
      "0\n"
     ]
    }
   ],
   "source": [
    "def hitung_penjumlahan(n):\n",
    "    if n < 1:\n",
    "        return 0\n",
    "    else:\n",
    "        total = 0\n",
    "        i = 1\n",
    "        while i <= n:\n",
    "            total += i\n",
    "            i += 1\n",
    "        return total\n",
    "\n",
    "n = -3\n",
    "hasil_penjumlahan = hitung_penjumlahan(n)\n",
    "print(hasil_penjumlahan)\n"
   ]
  },
  {
   "cell_type": "code",
   "execution_count": 24,
   "id": "38040768",
   "metadata": {},
   "outputs": [
    {
     "name": "stdout",
     "output_type": "stream",
     "text": [
      "['app.py', 'main.py', 'formula.py', 'program.py']\n"
     ]
    }
   ],
   "source": [
    "filenames = [\"app.go\", \"main.go\", \"formula.go\", \"program.go\"]\n",
    "new_filenames = [] # Buat list kosong\n",
    "\n",
    "for filename in filenames: # Buat loop untuk iterasi elemen pada list filenames\n",
    "    new_name = filename.replace(\".go\", \".py\") # Ganti ekstensi .go menjadi .py menggunakan .replace()\n",
    "    new_filenames.append(new_name) # Masukkan nama yang sudah diganti ke dalam list new_filenames\n",
    "\n",
    "# Cetak list yang berisi nama file yang sudah diganti\n",
    "print(new_filenames)"
   ]
  },
  {
   "cell_type": "code",
   "execution_count": 25,
   "id": "d9936970",
   "metadata": {},
   "outputs": [
    {
     "name": "stdout",
     "output_type": "stream",
     "text": [
      "['rafly.arj@gmail.com', 'syahreza.adnan@gmail.com', 'valen.hartanto@gmail.com', 'sabrina.tiara@telkomuniversity.ac.id', 'imelda@telkomuniversity.ac.id', 'raihan.omen@yahoo.com', 'dito.asyraf@yahoo.com']\n"
     ]
    }
   ],
   "source": [
    "def email_list(domains):\n",
    "    emails = []  # List untuk menampung email lengkap\n",
    "\n",
    "    # Loop untuk setiap key dan value pada dict domains\n",
    "    for domain, users in domains.items():\n",
    "        for user in users:\n",
    "            # Tambahkan email lengkap ke list emails\n",
    "            emails.append(user + '@' + domain)\n",
    "\n",
    "    return emails\n",
    "\n",
    "email_domain = {\n",
    "    \"gmail.com\": [\"rafly.arj\", \"syahreza.adnan\", \"valen.hartanto\"],\n",
    "    \"telkomuniversity.ac.id\": [\"sabrina.tiara\", \"imelda\"],\n",
    "    \"yahoo.com\": [\"raihan.omen\", \"dito.asyraf\"]\n",
    "}\n",
    "\n",
    "# Panggil fungsi email_list, kemudian masukkan ke dalam variabel\n",
    "email_addresses = email_list(email_domain)\n",
    "\n",
    "print(email_addresses)  # Cetak list hasil email lengkap yang didapatkan dari email_list"
   ]
  },
  {
   "cell_type": "code",
   "execution_count": 26,
   "id": "e53a8710",
   "metadata": {},
   "outputs": [
    {
     "name": "stdout",
     "output_type": "stream",
     "text": [
      "Rata-rata nilai: 81.67\n",
      "Status kelulusan: Lulus\n",
      "Rata-rata nilai: 65.00\n",
      "Status kelulusan: Tidak Lulus\n",
      "\n",
      "Data Siswa:\n",
      "Nama: Andi, Nilai: [80.0, 75.0, 90.0], Rata-rata: 81.67\n",
      "Nama: Budi, Nilai: [60.0, 65.0, 70.0], Rata-rata: 65.00\n"
     ]
    }
   ],
   "source": [
    "def hitung_rata_rata(nilai):\n",
    "    return sum(nilai) / len(nilai)\n",
    "\n",
    "data_siswa = {}\n",
    "\n",
    "while True:\n",
    "    nama_siswa = input(\"Masukkan nama siswa (atau ketik 'selesai' untuk mengakhiri): \")\n",
    "    if nama_siswa.lower() == 'selesai':\n",
    "        break\n",
    "    \n",
    "    nilai = []\n",
    "    for i in range(1, 4):\n",
    "        nilai_mata_pelajaran = float(input(f\"Masukkan nilai mata pelajaran {i}: \"))\n",
    "        nilai.append(nilai_mata_pelajaran)\n",
    "    \n",
    "    rata_rata = hitung_rata_rata(nilai)\n",
    "    status_kelulusan = \"Lulus\" if rata_rata >= 70 else \"Tidak Lulus\"\n",
    "    \n",
    "    data_siswa[nama_siswa] = nilai\n",
    "    \n",
    "    print(f\"Rata-rata nilai: {rata_rata:.2f}\")\n",
    "    print(f\"Status kelulusan: {status_kelulusan}\")\n",
    "\n",
    "print(\"\\nData Siswa:\")\n",
    "for nama, nilai in data_siswa.items():\n",
    "    print(f\"Nama: {nama}, Nilai: {nilai}, Rata-rata: {hitung_rata_rata(nilai):.2f}\")"
   ]
  },
  {
   "cell_type": "code",
   "execution_count": null,
   "id": "ec0d0125",
   "metadata": {},
   "outputs": [],
   "source": []
  }
 ],
 "metadata": {
  "kernelspec": {
   "display_name": "Python 3 (ipykernel)",
   "language": "python",
   "name": "python3"
  },
  "language_info": {
   "codemirror_mode": {
    "name": "ipython",
    "version": 3
   },
   "file_extension": ".py",
   "mimetype": "text/x-python",
   "name": "python",
   "nbconvert_exporter": "python",
   "pygments_lexer": "ipython3",
   "version": "3.11.2"
  }
 },
 "nbformat": 4,
 "nbformat_minor": 5
}
